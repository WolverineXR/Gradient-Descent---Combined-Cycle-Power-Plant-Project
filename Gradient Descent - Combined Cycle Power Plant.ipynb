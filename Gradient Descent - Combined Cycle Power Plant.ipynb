{
 "cells": [
  {
   "cell_type": "code",
   "execution_count": 1,
   "metadata": {},
   "outputs": [],
   "source": [
    "import numpy as np\n",
    "import pandas as pd"
   ]
  },
  {
   "cell_type": "code",
   "execution_count": 2,
   "metadata": {},
   "outputs": [],
   "source": [
    "# loading the training and testing data\n",
    "ccpp_train = np.genfromtxt('ccpp_x_y_train.csv', delimiter = ',')\n",
    "x_train = ccpp_train[:, 0:ccpp_train.shape[1]-1]\n",
    "y_train = ccpp_train[:, ccpp_train.shape[1]-1]\n",
    "x_test = np.genfromtxt(\"ccpp_x_test.csv\", delimiter = \",\")"
   ]
  },
  {
   "cell_type": "code",
   "execution_count": 3,
   "metadata": {},
   "outputs": [
    {
     "name": "stdout",
     "output_type": "stream",
     "text": [
      "[[   8.58   38.38 1021.03   84.37  482.26]\n",
      " [  21.79   58.2  1017.21   66.74  446.94]\n",
      " [  16.64   48.92 1011.55   78.76  452.56]\n",
      " ...\n",
      " [  29.8    69.34 1009.36   64.74  437.65]\n",
      " [  16.37   54.3  1017.94   63.63  459.97]\n",
      " [  30.11   62.04 1010.69   47.96  444.42]]\n"
     ]
    }
   ],
   "source": [
    "# printing the data\n",
    "print(ccpp_train)"
   ]
  },
  {
   "cell_type": "code",
   "execution_count": null,
   "metadata": {},
   "outputs": [],
   "source": []
  }
 ],
 "metadata": {
  "kernelspec": {
   "display_name": "Python 3",
   "language": "python",
   "name": "python3"
  },
  "language_info": {
   "codemirror_mode": {
    "name": "ipython",
    "version": 3
   },
   "file_extension": ".py",
   "mimetype": "text/x-python",
   "name": "python",
   "nbconvert_exporter": "python",
   "pygments_lexer": "ipython3",
   "version": "3.5.6"
  }
 },
 "nbformat": 4,
 "nbformat_minor": 2
}
